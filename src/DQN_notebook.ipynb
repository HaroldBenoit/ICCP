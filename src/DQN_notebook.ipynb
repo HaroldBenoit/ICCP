{
 "cells": [
  {
   "cell_type": "code",
   "execution_count": null,
   "metadata": {},
   "outputs": [],
   "source": [
    "import numpy as np\n",
    "from agent.DQN_Agent import DQNAgent\n",
    "from environment.DiscreteEnvironment import DiscreteSimpleEnvironment\n",
    "\n",
    "import pandas as pd\n",
    "\n",
    "%load_ext autoreload\n",
    "%autoreload 2"
   ]
  },
  {
   "cell_type": "markdown",
   "metadata": {},
   "source": [
    "## Set environment "
   ]
  },
  {
   "cell_type": "code",
   "execution_count": null,
   "metadata": {},
   "outputs": [],
   "source": [
    "env = DiscreteSimpleEnvironment(param_list=['Tair', 'RH', 'Tmrt', 'Tout', 'Qheat', 'Occ'],\n",
    "alpha=4,\n",
    "beta=1,\n",
    "min_temp=16,\n",
    "max_temp=21,\n",
    "discrete_action_dim=100,\n",
    "modelname='CELLS_v1.fmu',\n",
    "simulation_path=r'C:\\Users\\hbenoit\\Desktop\\DIET_Controller\\EnergyPlus_simulations\\simple_simulation',\n",
    "days=151,\n",
    "hours=24,\n",
    "minutes=60,\n",
    "seconds=60,\n",
    "ep_timestep=6)"
   ]
  },
  {
   "cell_type": "markdown",
   "metadata": {},
   "source": [
    "## Hyperparameter tuning and training"
   ]
  },
  {
   "cell_type": "code",
   "execution_count": null,
   "metadata": {},
   "outputs": [],
   "source": [
    "from Performance import all_combinations_list\n",
    "from Performance import search_similar\n",
    "\n",
    "agent_arguments = {\n",
    "\"memory_size\": [1000],\n",
    "\"batch_size\": [32],\n",
    "\"actor_update\":[8],\n",
    "\"target_update\": [100],\n",
    "\"epsilon_decay\": [1 / 20000],\n",
    "\"max_epsilon\": [1],\n",
    "\"min_epsilon\":  [0.0],\n",
    "\"lr\":[1e-3],\n",
    "\"gamma\": [0.99],\n",
    "\"inside_dim\": [128,256],\n",
    "\"num_hidden_layers\": [2,4,6,8],\n",
    "\"seed\": [800]\n",
    "}\n",
    "\n",
    "logging_path = r\"C:\\Users\\hbenoit\\Desktop\\DIET_Controller\\logs\\simple_simulation\"\n",
    "searching_directory = r\"C:\\Users\\hbenoit\\Desktop\\DIET_Controller\\logs\\simple_simulation\\DQN_Agent\\results\"\n",
    "\n",
    "for curr_agent_arguments in all_combinations_list(agent_arguments):\n",
    "\n",
    "    ## creating the dictionary of parameters against which to check\n",
    "    agent = DQNAgent(env).from_dict(dict_arguments=curr_agent_arguments)\n",
    "    log_dict = {**agent.log_dict(), **env.log_dict()}\n",
    "    num_episodes = 10\n",
    "    log_dict[\"num_episodes\"] = num_episodes\n",
    "\n",
    "    ## so that we don't train a configuration that has already been trained\n",
    "    if(not(search_similar(searching_directory, log_dict))):\n",
    "        print(\"WE TRAIN\")\n",
    "        results_path, summary_df = agent.train(logging_path= logging_path,\n",
    "         num_iterations= None,\n",
    "         num_episodes=num_episodes,\n",
    "         log=True)\n",
    "  "
   ]
  },
  {
   "cell_type": "markdown",
   "metadata": {},
   "source": [
    "# Finding the best performing agent in the logs"
   ]
  },
  {
   "cell_type": "code",
   "execution_count": null,
   "metadata": {},
   "outputs": [],
   "source": [
    "# Example of how to use the function: \n",
    "# \n",
    "import Performance\n",
    "\n",
    "searching_directory = r\"C:\\Users\\hbenoit\\Desktop\\DIET_Controller\\logs\\simple_simulation\\DQN_Agent\"\n",
    "\n",
    "conditions = {\"seed\":[\"=\",800],    \"alpha\":[\"=\",0.25],\n",
    "    \"beta\":[\"=\",1], \"num_episodes\":[\"=\",10]}\n",
    "\n",
    "best_path_list = Performance.search_paths(\n",
    "searching_directory,\n",
    "conditions=conditions,\n",
    "top_k=1,\n",
    "utility_function=Performance.cumulative_reward,\n",
    "normalized=True)\n",
    "\n",
    "best_path_list"
   ]
  },
  {
   "cell_type": "markdown",
   "metadata": {},
   "source": [
    "## Testing in-training performance pipeline\n",
    "\n",
    "Here, we test the performance of the best agent according to the cumulative reward"
   ]
  },
  {
   "cell_type": "code",
   "execution_count": null,
   "metadata": {},
   "outputs": [],
   "source": [
    "from logger.SimpleLogger import SimpleLogger\n",
    "\n",
    "best_agent_path = best_path_list[0]\n",
    "\n",
    "parameter = (\"seed\", [775,776,777,778])\n",
    "\n",
    "logging_path = r\"C:\\Users\\hbenoit\\Desktop\\DIET_Controller\\logs\\simple_simulation\"\n",
    "\n",
    "utility_function = Performance.cumulative_reward\n",
    "agent = DQNAgent(env=env)\n",
    "num_episodes = 5\n",
    "num_iterations = env.numsteps\n",
    "agent_name = \"DQN_Agent\"\n",
    "\n",
    "results_dict = Performance.across_runs(\n",
    "agent=agent,\n",
    "agent_config_path=best_agent_path,\n",
    "parameter=parameter,\n",
    "num_episodes=num_episodes,\n",
    "num_iterations=num_iterations,\n",
    "utility_function=utility_function,\n",
    "alpha=0.05,\n",
    "window=6,\n",
    "column_names=[\"Tset\",\"Reward\"])\n",
    "\n",
    "logger = SimpleLogger(\n",
    "        logging_path=logging_path,\n",
    "        agent_name=\"DQN_Agent\",\n",
    "        num_episodes=num_episodes,\n",
    "        num_iterations=num_iterations,\n",
    "    )\n",
    "\n",
    "results_dict[\"alpha\"]= agent.env.alpha\n",
    "results_dict[\"beta\"]= agent.env.beta\n",
    "\n",
    "logger.log_performance_pipeline(results_dict,fixed_policy=False)"
   ]
  },
  {
   "cell_type": "markdown",
   "metadata": {},
   "source": [
    "## Testing fixed policy performance\n",
    "\n",
    "Here, we test the performance of the best agent according to the cumulative reward"
   ]
  },
  {
   "cell_type": "code",
   "execution_count": null,
   "metadata": {},
   "outputs": [],
   "source": [
    "from logger.SimpleLogger import SimpleLogger\n",
    "\n",
    "best_agent_path = best_path_list[0]\n",
    "\n",
    "agent= Performance.load_trained_agent(\n",
    "DQNAgent(env),\n",
    "results_path=best_agent_path)\n",
    "\n",
    "utility_function = Performance.cumulative_reward\n",
    "agent = DQNAgent(env=env)\n",
    "num_testing = 3\n",
    "num_episodes = 5\n",
    "num_iterations = env.numsteps\n",
    "agent_name = \"DQN_Agent\"\n",
    "\n",
    "results_dict = Performance.across_fixed_policy(\n",
    "agent=agent,\n",
    "agent_config_path=best_agent_path,\n",
    "num_testing=num_testing,\n",
    "num_episodes=num_episodes,\n",
    "num_iterations=num_iterations,\n",
    "utility_function=utility_function,\n",
    "alpha=0.05,\n",
    "window=6,\n",
    "column_names=[\"Tset\",\"Reward\"])\n",
    "\n",
    "logging_path = r\"C:\\Users\\hbenoit\\Desktop\\DIET_Controller\\logs\\simple_simulation\"\n",
    "\n",
    "logger = SimpleLogger(\n",
    "        logging_path=logging_path,\n",
    "        agent_name=\"DQN_Agent\",\n",
    "        num_episodes=num_episodes,\n",
    "        num_iterations=num_iterations,\n",
    "    )\n",
    "\n",
    "results_dict[\"alpha\"]= agent.env.alpha\n",
    "results_dict[\"beta\"]= agent.env.beta\n",
    "\n",
    "logger.log_performance_pipeline(\n",
    "results_dict,\n",
    "fixed_policy=True)"
   ]
  }
 ],
 "metadata": {
  "kernelspec": {
   "display_name": "Python 3.8.12 ('base')",
   "language": "python",
   "name": "python3"
  },
  "language_info": {
   "codemirror_mode": {
    "name": "ipython",
    "version": 3
   },
   "file_extension": ".py",
   "mimetype": "text/x-python",
   "name": "python",
   "nbconvert_exporter": "python",
   "pygments_lexer": "ipython3",
   "version": "3.8.12"
  },
  "orig_nbformat": 4,
  "vscode": {
   "interpreter": {
    "hash": "6b6b609373cab7b4f35f89e556fae7285533d0878866e99b2da014c0f4ef9f7d"
   }
  }
 },
 "nbformat": 4,
 "nbformat_minor": 2
}
